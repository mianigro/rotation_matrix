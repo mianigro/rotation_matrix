{
 "cells": [
  {
   "cell_type": "markdown",
   "id": "5a115583",
   "metadata": {},
   "source": [
    "# Rotation of 2D Image\n",
    "\n",
    "\n",
    "***\n",
    "\n",
    "## Rotation Matix in 2D\n",
    "\n",
    "$ \\mathbf{Point} = \\left( \\begin{array}{cc} x  \\\\ y \\end{array}\\right)$\n",
    "\n",
    "\n",
    "$ \\mathbf{Rotation(\\theta)} = \\left( \\begin{array}{cc} \\cos\\theta & -\\sin\\theta \\\\ \\sin\\theta & \\cos\\theta \\end{array}\\right)$\n",
    "\n",
    "\n",
    "$ \\mathbf{Point\\prime} = \\left( \\begin{array}{cc} \\cos\\theta & -\\sin\\theta \\\\ \\sin\\theta & \\cos\\theta \\end{array}\\right) . \\left( \\begin{array}{cc} x  \\\\ y \\end{array}\\right)$\n",
    "\n",
    "## Rotation equation for points x and y\n",
    "\n",
    "$x\\prime = x \\cos\\theta - y \\sin\\theta$\n",
    "\n",
    "$y\\prime = x \\sin\\theta + y \\cos\\theta$\n",
    "\n",
    "\n",
    "***\n",
    "\n",
    "## Algorithm\n",
    "### 1. Generate a 2D array of a specific size as the image. The position is dictated by the structure of the matrix and the colour is dictated by the number at each array entry.\n",
    "### 2. Convert the array into a cartesian point system with a mapping to the color in the original array, with the centre of the image being (0,0). So, the new array is: $coords = [x, y, np_x, np_y]$. Where x and y being the coordinates on a cartesian plane with (0,0) as the centre of the image, and np_x and np_y being the location of the color of that point in the original array.\n",
    "### 3. Run each point through the conversion matrix for each $\\theta$ and generate the $coords\\prime = [x\\prime, y\\prime, np_x, np_y]$. This gives the new location on a cartesian plane rotated at (0,0) and maintains the same colour refference in the original array.\n",
    "### 4. The colour refference is a numpy array, the $np_y$ indicates the row and $np_x$ indicates the position in that row for the colour value for the relevant point.\n",
    "### 5. Display the resulting matrix on a cartesian plane as well as the original image.\n",
    "\n",
    "***"
   ]
  },
  {
   "cell_type": "markdown",
   "id": "9514cb0d",
   "metadata": {},
   "source": [
    "### Importing modules"
   ]
  },
  {
   "cell_type": "code",
   "execution_count": 1,
   "id": "97bf3082",
   "metadata": {},
   "outputs": [],
   "source": [
    "import numpy as np\n",
    "import math\n",
    "from matplotlib import pyplot as plt\n",
    "import random"
   ]
  },
  {
   "cell_type": "markdown",
   "id": "61c678fc",
   "metadata": {},
   "source": [
    "### Generate the image\n",
    "Generate random image of 11 x 11 pixels of random colors. The array is 11 x 11 to allow the image to be centered on the origin of (0,0) with 5 pixels in all directions of (0,0).\n"
   ]
  },
  {
   "cell_type": "code",
   "execution_count": 4,
   "id": "29fd9b1b",
   "metadata": {},
   "outputs": [
    {
     "name": "stdout",
     "output_type": "stream",
     "text": [
      "[[ 62  62  62  62  62  62  62  62  62  62  62]\n",
      " [107 107 107 107 107 107 107 107 107 107 107]\n",
      " [137 137 137 137 137 137 137 137 137 137 137]\n",
      " [ 52  52  52  52  52  52  52  52  52  52  52]\n",
      " [117 117 117 117 117 117 117 117 117 117 117]\n",
      " [ 44  44  44  44  44  44  44  44  44  44  44]\n",
      " [203 203 203 203 203 203 203 203 203 203 203]\n",
      " [207 207 207 207 207 207 207 207 207 207 207]\n",
      " [250 250 250 250 250 250 250 250 250 250 250]\n",
      " [246 246 246 246 246 246 246 246 246 246 246]\n",
      " [202 202 202 202 202 202 202 202 202 202 202]\n",
      " [236 236 236 236 236 236 236 236 236 236 236]]\n"
     ]
    },
    {
     "data": {
      "image/png": "[encoded data removed]",
      "text/plain": [
       "<Figure size 432x288 with 1 Axes>"
      ]
     },
     "metadata": {
      "needs_background": "light"
     },
     "output_type": "display_data"
    }
   ],
   "source": [
    "dimension = 11\n",
    "\n",
    "size_array = (dimension, dimension)\n",
    "x_graph_lim = (size_array[0] - 3)\n",
    "y_graph_lim = (size_array[1] - 3)\n",
    "\n",
    "int_in = random.randint(0, 255)\n",
    "img_numpy = np.full((1,dimension), int_in)\n",
    "\n",
    "\n",
    "for _ in range(0,dimension):\n",
    "    int_in = random.randint(0, 255)\n",
    "    buffer_array = np.full((1,dimension), int_in)\n",
    "    img_numpy = np.concatenate((img_numpy, buffer_array))\n",
    "    \n",
    "print(img_numpy)\n",
    "\n",
    "plt.imshow(img_numpy)\n",
    "plt.show()"
   ]
  },
  {
   "cell_type": "markdown",
   "id": "0b98663d",
   "metadata": {},
   "source": [
    "### Convert image into cartesian system\n",
    "\n",
    "Turn numpy image into cartesian coordinates with index references to the original numpy matrix for colors.\n",
    "\n",
    "coords = [x, y, np_x, np_y]\n",
    "\n",
    "image array = [numpy_y, numpy_x]\n",
    "\n",
    "colour code = img_numpy[np_y][np_x]\n",
    "\n",
    "slicing with coords to get color code = img_numpy[coords[np_y][2]][np_x]"
   ]
  },
  {
   "cell_type": "code",
   "execution_count": 5,
   "id": "1995b6e9",
   "metadata": {},
   "outputs": [
    {
     "name": "stdout",
     "output_type": "stream",
     "text": [
      "[(-5, 5, 0, 0), (-4, 5, 1, 0), (-3, 5, 2, 0), (-2, 5, 3, 0), (-1, 5, 4, 0), (0, 5, 5, 0), (1, 5, 6, 0), (2, 5, 7, 0), (3, 5, 8, 0), (4, 5, 9, 0), (5, 5, 10, 0), (-5, 4, 0, 1), (-4, 4, 1, 1), (-3, 4, 2, 1), (-2, 4, 3, 1), (-1, 4, 4, 1), (0, 4, 5, 1), (1, 4, 6, 1), (2, 4, 7, 1), (3, 4, 8, 1), (4, 4, 9, 1), (5, 4, 10, 1), (-5, 3, 0, 2), (-4, 3, 1, 2), (-3, 3, 2, 2), (-2, 3, 3, 2), (-1, 3, 4, 2), (0, 3, 5, 2), (1, 3, 6, 2), (2, 3, 7, 2), (3, 3, 8, 2), (4, 3, 9, 2), (5, 3, 10, 2), (-5, 2, 0, 3), (-4, 2, 1, 3), (-3, 2, 2, 3), (-2, 2, 3, 3), (-1, 2, 4, 3), (0, 2, 5, 3), (1, 2, 6, 3), (2, 2, 7, 3), (3, 2, 8, 3), (4, 2, 9, 3), (5, 2, 10, 3), (-5, 1, 0, 4), (-4, 1, 1, 4), (-3, 1, 2, 4), (-2, 1, 3, 4), (-1, 1, 4, 4), (0, 1, 5, 4), (1, 1, 6, 4), (2, 1, 7, 4), (3, 1, 8, 4), (4, 1, 9, 4), (5, 1, 10, 4), (-5, 0, 0, 5), (-4, 0, 1, 5), (-3, 0, 2, 5), (-2, 0, 3, 5), (-1, 0, 4, 5), (0, 0, 5, 5), (1, 0, 6, 5), (2, 0, 7, 5), (3, 0, 8, 5), (4, 0, 9, 5), (5, 0, 10, 5), (-5, -1, 0, 6), (-4, -1, 1, 6), (-3, -1, 2, 6), (-2, -1, 3, 6), (-1, -1, 4, 6), (0, -1, 5, 6), (1, -1, 6, 6), (2, -1, 7, 6), (3, -1, 8, 6), (4, -1, 9, 6), (5, -1, 10, 6), (-5, -2, 0, 7), (-4, -2, 1, 7), (-3, -2, 2, 7), (-2, -2, 3, 7), (-1, -2, 4, 7), (0, -2, 5, 7), (1, -2, 6, 7), (2, -2, 7, 7), (3, -2, 8, 7), (4, -2, 9, 7), (5, -2, 10, 7), (-5, -3, 0, 8), (-4, -3, 1, 8), (-3, -3, 2, 8), (-2, -3, 3, 8), (-1, -3, 4, 8), (0, -3, 5, 8), (1, -3, 6, 8), (2, -3, 7, 8), (3, -3, 8, 8), (4, -3, 9, 8), (5, -3, 10, 8), (-5, -4, 0, 9), (-4, -4, 1, 9), (-3, -4, 2, 9), (-2, -4, 3, 9), (-1, -4, 4, 9), (0, -4, 5, 9), (1, -4, 6, 9), (2, -4, 7, 9), (3, -4, 8, 9), (4, -4, 9, 9), (5, -4, 10, 9), (-5, -5, 0, 10), (-4, -5, 1, 10), (-3, -5, 2, 10), (-2, -5, 3, 10), (-1, -5, 4, 10), (0, -5, 5, 10), (1, -5, 6, 10), (2, -5, 7, 10), (3, -5, 8, 10), (4, -5, 9, 10), (5, -5, 10, 10)]\n",
      "62\n",
      "(-5, 5, 0, 0)\n",
      "62\n"
     ]
    }
   ],
   "source": [
    "coords = []\n",
    "\n",
    "array_y = 0\n",
    "for y in range(int((size_array[0]-1)/2), int(-1*(size_array[0]+1)/2), -1):\n",
    "    \n",
    "    array_x = 0\n",
    "    \n",
    "    for x in range(int(-1*(size_array[0]-1)/2), int((size_array[0]+1)/2)):\n",
    "        coords.append((x, y, array_x, array_y))\n",
    "        \n",
    "        array_x += 1\n",
    "\n",
    "    array_y += 1\n",
    "\n",
    "# Showing coords = [x, y, np_x, np_y]\n",
    "print(coords)           \n",
    "\n",
    "\n",
    "# Showing how the array is sliced and used to find colour refs\n",
    "print(img_numpy[0][1])\n",
    "print(coords[0])\n",
    "print(img_numpy[coords[0][2]][1])"
   ]
  },
  {
   "cell_type": "markdown",
   "id": "ee1f952c",
   "metadata": {},
   "source": [
    "### Rotation function\n",
    "\n",
    "This function takes in the point as $p = [x, y, np_x, np_y]$ and the angle as $\\theta$, then splits the point into individual variables of $x, y, np_x, np_y$, and runs the $x$ and $y$ through the rotation formula to make $x\\prime, y\\prime$.  The function then returns $[x\\prime, y\\prime, np_x, np_y]$ as a tuple, note, $np_x, np_y$ remain unchanged as these are the refference point for the color of the point.\n",
    "\n",
    "#### Rotation Formula\n",
    "\n",
    "$x\\prime = x \\cos\\theta - y \\sin\\theta$\n",
    "\n",
    "$y\\prime = x \\sin\\theta + y \\cos\\theta$"
   ]
  },
  {
   "cell_type": "code",
   "execution_count": 7,
   "id": "67a1c24b",
   "metadata": {},
   "outputs": [],
   "source": [
    "def point_rotation(theta, p):\n",
    "    # Set origin at (0,0) and each point to rotate is (cart_x, cart_y) with the colour refs as (np_x, np_y)\n",
    "    p_o = (0,0)\n",
    "    cart_x, cart_y, np_x, np_y = p\n",
    "    \n",
    "    p = (cart_x, cart_y)\n",
    "    \n",
    "    # Use the x and y rotation formulas to rotate around the origin    \n",
    "    p_prime = (round((p[0]*math.cos(theta)-p[1]*math.sin(theta)), 2), round((p[0]*math.sin(theta)+ p[1]*math.cos(theta)), 2))\n",
    "    \n",
    "    return (p_prime[0], p_prime[1], np_x, np_y)"
   ]
  },
  {
   "cell_type": "markdown",
   "id": "e192b817",
   "metadata": {},
   "source": [
    "### Graphing function"
   ]
  },
  {
   "cell_type": "code",
   "execution_count": 8,
   "id": "f1e7d9fe",
   "metadata": {},
   "outputs": [],
   "source": [
    "def graph_points_all(points_in_all):\n",
    "    all_x = []\n",
    "    all_y = []\n",
    "    color_point = []\n",
    "\n",
    "    for x, y, np_x, np_y in points_in_all:\n",
    "        all_x.append(x)\n",
    "        all_y.append(y)\n",
    "        color_point.append(img_numpy[coords[np_y][2]][np_x])\n",
    "    \n",
    "    # Display the rotation as vectors from the origin and setup cartesian coordinates\n",
    "    plt.rcParams[\"figure.figsize\"] = (5,5)\n",
    "    \n",
    "    ax = plt.axes()\n",
    "    ax.grid(which='both', color='grey', linewidth=1, linestyle='-', alpha=0.2)\n",
    "    ax.spines['bottom'].set_position('zero')\n",
    "    ax.spines['left'].set_position('zero')\n",
    "    ax.spines['top'].set_visible(False)\n",
    "    ax.spines['right'].set_visible(False)\n",
    "    \n",
    "    x_ticks = np.arange(-1*x_graph_lim, x_graph_lim, 1)\n",
    "    y_ticks = np.arange(-1*y_graph_lim, y_graph_lim, 1)\n",
    "    ax.set_xticks(x_ticks[x_ticks != 0])\n",
    "    ax.set_yticks(y_ticks[y_ticks != 0])\n",
    "    ax.set_xticks(np.arange(-1*x_graph_lim, x_graph_lim, 1), minor=True)\n",
    "    ax.set_yticks(np.arange(-1*y_graph_lim, y_graph_lim, 1), minor=True)\n",
    "    \n",
    "    plt.ylim(-1*y_graph_lim, y_graph_lim)\n",
    "    plt.xlim(-1*x_graph_lim, x_graph_lim)\n",
    "        \n",
    "    plt.scatter(all_x, all_y, c=color_point, s=17**2, marker='s')\n",
    "    plt.show()\n"
   ]
  },
  {
   "cell_type": "markdown",
   "id": "41e2fde3",
   "metadata": {},
   "source": [
    "### Looping through angles and rotating the image"
   ]
  },
  {
   "cell_type": "code",
   "execution_count": 10,
   "id": "fb9a9263",
   "metadata": {},
   "outputs": [
    {
     "name": "stdout",
     "output_type": "stream",
     "text": [
      "------------------------------------------\n",
      "Rotation anticlockwise in degrees = 0.0\n"
     ]
    },
    {
     "data": {
      "image/png": "[encoded data removed]",
      "text/plain": [
       "<Figure size 360x360 with 1 Axes>"
      ]
     },
     "metadata": {
      "needs_background": "light"
     },
     "output_type": "display_data"
    },
    {
     "name": "stdout",
     "output_type": "stream",
     "text": [
      "------------------------------------------\n",
      "Rotation anticlockwise in degrees = 22.5\n"
     ]
    },
    {
     "data": {
      "image/png": "[encoded data removed]",
      "text/plain": [
       "<Figure size 360x360 with 1 Axes>"
      ]
     },
     "metadata": {
      "needs_background": "light"
     },
     "output_type": "display_data"
    },
    {
     "name": "stdout",
     "output_type": "stream",
     "text": [
      "------------------------------------------\n",
      "Rotation anticlockwise in degrees = 45.0\n"
     ]
    },
    {
     "data": {
      "image/png": "[encoded data removed]",
      "text/plain": [
       "<Figure size 360x360 with 1 Axes>"
      ]
     },
     "metadata": {
      "needs_background": "light"
     },
     "output_type": "display_data"
    },
    {
     "name": "stdout",
     "output_type": "stream",
     "text": [
      "------------------------------------------\n",
      "Rotation anticlockwise in degrees = 60.0\n"
     ]
    },
    {
     "data": {
      "image/png": "[encoded data removed]",
      "text/plain": [
       "<Figure size 360x360 with 1 Axes>"
      ]
     },
     "metadata": {
      "needs_background": "light"
     },
     "output_type": "display_data"
    },
    {
     "name": "stdout",
     "output_type": "stream",
     "text": [
      "------------------------------------------\n",
      "Rotation anticlockwise in degrees = 90.0\n"
     ]
    },
    {
     "data": {
      "image/png": "[encoded data removed]",
      "text/plain": [
       "<Figure size 360x360 with 1 Axes>"
      ]
     },
     "metadata": {
      "needs_background": "light"
     },
     "output_type": "display_data"
    }
   ],
   "source": [
    "thetas = [0, math.pi/8, math.pi/4, math.pi/3, math.pi/2]\n",
    "\n",
    "# Generated rotated matrix for all thetas\n",
    "for theta_in in thetas:\n",
    "   \n",
    "    coords_prime = []\n",
    "    \n",
    "    print(\"------------------------------------------\")\n",
    "    print(f\"Rotation anticlockwise in degrees = {round((theta_in * 180 / math.pi), 2)}\")\n",
    "\n",
    "    for item in coords:\n",
    "        coords_prime.append(point_rotation(theta_in, item))\n",
    "    \n",
    "    graph_points_all(coords_prime)"
   ]
  },
  {
   "cell_type": "code",
   "execution_count": null,
   "id": "f7997f45",
   "metadata": {},
   "outputs": [],
   "source": []
  }
 ],
 "metadata": {
  "kernelspec": {
   "display_name": "Python 3 (ipykernel)",
   "language": "python",
   "name": "python3"
  },
  "language_info": {
   "codemirror_mode": {
    "name": "ipython",
    "version": 3
   },
   "file_extension": ".py",
   "mimetype": "text/x-python",
   "name": "python",
   "nbconvert_exporter": "python",
   "pygments_lexer": "ipython3",
   "version": "3.10.4"
  }
 },
 "nbformat": 4,
 "nbformat_minor": 5
}
